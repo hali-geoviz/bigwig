{
 "cells": [
  {
   "cell_type": "code",
   "execution_count": null,
   "metadata": {},
   "outputs": [],
   "source": [
    "%matplotlib inline\n",
    "\n",
    "import os\n",
    "import pandas as pd\n",
    "import lasio as ls\n",
    "#import selenium\n",
    "#import phantomjs\n",
    "import matplotlib.pyplot as plt\n",
    "import numpy as np\n",
    "import numpy.lib.recfunctions as rfn\n",
    "#import re\n",
    "#from azure.datalake.store import core, lib\n",
    "#import tempfile\n",
    "import sys\n",
    "import hvplot.pandas\n",
    "import holoviews as hv\n",
    "from holoviews import opts, streams\n",
    "from holoviews.plotting.links import DataLink\n",
    "hv.extension('bokeh', logo=None)\n",
    "from IPython.display import display, HTML\n",
    "from bokeh.models.tools import LassoSelectTool, BoxSelectTool  # tools=['hover']\n",
    "box_select = BoxSelectTool()\n",
    "lasso_select = LassoSelectTool()\n",
    "import panel as pn\n",
    "pn.extension()\n",
    "from IPython.display import display, HTML\n",
    "\n",
    "client_secret = \"Bw2w*31.CmbIiP.i2EILQ=HN@xr]yeu?\"\n",
    "\n",
    "display(HTML(data=\"\"\"\n",
    "<style>\n",
    "    div#notebook-container    { width: 95%; }\n",
    "    div#menubar-container     { width: 80%; }\n",
    "    div#maintoolbar-container { width: 80%; }\n",
    "</style>\n",
    "\"\"\"))"
   ]
  },
  {
   "cell_type": "markdown",
   "metadata": {},
   "source": [
    "## Import real well logs to use as basis for fake well logs"
   ]
  },
  {
   "cell_type": "code",
   "execution_count": null,
   "metadata": {},
   "outputs": [],
   "source": [
    "filepath = '../Documentation/Well log LAS files/WKF W8A LWD VISION RM 0_5m Drilling.LAS'"
   ]
  },
  {
   "cell_type": "code",
   "execution_count": null,
   "metadata": {},
   "outputs": [],
   "source": [
    "def las_to_df(filepath):\n",
    "    las = ls.read(filepath)\n",
    "    curve_df = las.df()\n",
    "    curve_df = curve_df.replace(-999.25,np.nan)\n",
    "    curve_df.reset_index(inplace=True)\n",
    "    curve_df.rename(columns={curve_df.columns[0]:'Depth'}, inplace=True)\n",
    "    las.curves[0].mnemonic = 'Depth'\n",
    "    return curve_df, las"
   ]
  },
  {
   "cell_type": "code",
   "execution_count": null,
   "metadata": {},
   "outputs": [],
   "source": [
    "df_realwell, las_realwell = las_to_df(filepath)"
   ]
  },
  {
   "cell_type": "code",
   "execution_count": null,
   "metadata": {},
   "outputs": [],
   "source": [
    "# Create new df only containing relevant curves (9) within a start and stop depth:\n",
    "def get_curves(df, curvenames, start_depth, stop_depth):\n",
    "    df_new = df.loc[start_depth<=df['Depth']].loc[df['Depth']<stop_depth][curvenames]\n",
    "    return df_new"
   ]
  },
  {
   "cell_type": "code",
   "execution_count": null,
   "metadata": {},
   "outputs": [],
   "source": [
    "all_curves = ['Depth', 'GR_ARC', 'A16H', 'A28H', 'A40H', 'TNPH', 'ROP5_RM', 'RHOB', 'DCAV'] # Relevant curve names for the chosen well\n",
    "\n",
    "start_depth = df_realwell['Depth'].iloc[0]\n",
    "end_depth = df_realwell['Depth'].iloc[-1]\n",
    "step_depth = df_realwell['Depth'].iloc[1] - df_realwell['Depth'].iloc[0]\n",
    "\n",
    "df_curves = get_curves(df_realwell, all_curves, start_depth, end_depth) # New df containing specific curves and start and stop depths"
   ]
  },
  {
   "cell_type": "code",
   "execution_count": null,
   "metadata": {},
   "outputs": [],
   "source": [
    "start_depth, end_depth, step_depth # Values to be used as input parameters"
   ]
  },
  {
   "cell_type": "markdown",
   "metadata": {},
   "source": [
    "## Set input parameters"
   ]
  },
  {
   "cell_type": "code",
   "execution_count": null,
   "metadata": {
    "scrolled": false
   },
   "outputs": [],
   "source": [
    "Number_of_files = int(input(\"Number of files to generate: \"))\n",
    "depth_start = int(input(\"Depth reading start: \"))\n",
    "depth_end = int(input(\"Depth reading end: \"))\n",
    "depth_step = float(input(\"number of recordings per meter : \")) # 1=1 per m, 0.5=2 per m, 12= every 12 m\n",
    "wellname = input('name of wells: ')\n",
    "filename = input('name of files: ')"
   ]
  },
  {
   "cell_type": "code",
   "execution_count": null,
   "metadata": {},
   "outputs": [],
   "source": [
    "len(np.arange(depth_start, depth_end, depth_step))"
   ]
  },
  {
   "cell_type": "markdown",
   "metadata": {},
   "source": [
    "## Create LAS-file from scratch"
   ]
  },
  {
   "cell_type": "code",
   "execution_count": null,
   "metadata": {},
   "outputs": [],
   "source": [
    "def file_gen_input(wellname):\n",
    "    file_arr = np.arange(1,Number_of_files+1,1)\n",
    "    lasfile = ls.LASFile()\n",
    "    from datetime import datetime\n",
    "    lasfile.well.DATE = datetime.today().strftime('%Y-%m-%d %H:%M:%S')\n",
    "    lasfile.well.WELL = wellname\n",
    "    lasfile.params['CR8TOR'] = ls.HeaderItem('CR8TOR', value='Sebastian Aegidius')\n",
    "    lasfile.other = 'LAS file creator'\n",
    "    depth = np.arange(depth_start, depth_end, depth_step)\n",
    "    lasfile.add_curve('DEPTH (m)', depth, unit = 'm')\n",
    "    return lasfile, depth"
   ]
  },
  {
   "cell_type": "code",
   "execution_count": null,
   "metadata": {
    "scrolled": true
   },
   "outputs": [],
   "source": [
    "lasfile, depth = file_gen_input(wellname)"
   ]
  },
  {
   "cell_type": "code",
   "execution_count": null,
   "metadata": {},
   "outputs": [],
   "source": [
    "def add_data(names, info_eq, fgi): # (Name of curve info, equation to produce data, file_gen_input_curve)\n",
    "    data_eq = info_eq\n",
    "    #fake[:3] = np.nan # Set first three values to NaN\n",
    "    fgi.add_curve(names[0], data_eq, unit=names[1], descr=names[2]) # (parameter-name, datavalues, unit, description)\n",
    "    return"
   ]
  },
  {
   "cell_type": "markdown",
   "metadata": {},
   "source": [
    "## Add multiple files, equations and data"
   ]
  },
  {
   "cell_type": "code",
   "execution_count": null,
   "metadata": {},
   "outputs": [],
   "source": [
    "def multiple_files(Number_of_files, wellname = wellname):\n",
    "    list_of_all_wells = []\n",
    "    for i in range(Number_of_files):\n",
    "        sample = file_gen_input(wellname+'_'+str(i))\n",
    "        list_of_all_wells.append(sample[0])\n",
    "    return list_of_all_wells"
   ]
  },
  {
   "cell_type": "code",
   "execution_count": null,
   "metadata": {},
   "outputs": [],
   "source": [
    "params = [['GR', 'api', 'Gamma Ray'], \n",
    "          ['RD', 'ohm.m', 'Deep Resistivity'], \n",
    "          ['RM', 'ohm.m', 'Medium Resistivity'], \n",
    "          ['RS', 'ohm.m', 'Shallow Resistivity'], \n",
    "          ['NPHI', 'v/v', 'Neutron Porosity'], \n",
    "          ['RHOB', 'g/cm3', 'Density'], \n",
    "          ['DT', 'ms/ft', 'Sonic Velocity'], \n",
    "          ['CALI', 'inch', 'Caliper'], \n",
    "          ['BS', 'inch', 'Bit Size']\n",
    "         ]\n",
    "\n",
    "def eq_realdata(df):\n",
    "    equation = [df[df.columns[0]].values, \n",
    "                df[df.columns[1]].values, \n",
    "                df[df.columns[2]].values,\n",
    "                df[df.columns[3]].values, \n",
    "                df[df.columns[4]].values,\n",
    "                df[df.columns[5]].values,\n",
    "                df[df.columns[6]].values, \n",
    "                df[df.columns[7]].values, \n",
    "                df[df.columns[8]].values]\n",
    "    return equation"
   ]
  },
  {
   "cell_type": "code",
   "execution_count": null,
   "metadata": {},
   "outputs": [],
   "source": [
    "def eq(lasfiles_object, eq_list):\n",
    "    equations = []\n",
    "    for i in range(len(lasfiles_object)): # Make unique equations for each las-file\n",
    "        equations.append(eq_list)\n",
    "    return equations"
   ]
  },
  {
   "cell_type": "code",
   "execution_count": null,
   "metadata": {},
   "outputs": [],
   "source": [
    "def add_fakedata_multiple_files(fgi, equations, param_list):\n",
    "    for las in range(len(fgi)): # Go through each las-file\n",
    "        random = np.abs(np.random.gamma(shape=3, scale=2, size=len(depth))) # Random-data MUST be inside for-loop!\n",
    "        random_shift = 10 * np.random.sample() - 5\n",
    "        [add_data([param_list[i][0], param_list[i][1], param_list[i][2]], \n",
    "                      abs(equations[las][i]*random + equations[las][i]*random_shift), fgi[las]) for i in range(len(param_list))] # add 'random' data to a las-file\n",
    "    return"
   ]
  },
  {
   "cell_type": "code",
   "execution_count": null,
   "metadata": {},
   "outputs": [],
   "source": [
    "def write_to_las(fgi, filename):\n",
    "    [fgi[i].write(filename+'_'+str(i)+'.las', version=2) for i in range(len(fgi))];\n",
    "    return"
   ]
  },
  {
   "cell_type": "code",
   "execution_count": null,
   "metadata": {
    "scrolled": false
   },
   "outputs": [],
   "source": [
    "list_of_all_wells = multiple_files(Number_of_files) # X number of las-files"
   ]
  },
  {
   "cell_type": "code",
   "execution_count": null,
   "metadata": {},
   "outputs": [],
   "source": [
    "add_fakedata_multiple_files(list_of_all_wells, eq(list_of_all_wells, eq_realdata(df_curves)), params) # Include some data in each file"
   ]
  },
  {
   "cell_type": "code",
   "execution_count": null,
   "metadata": {},
   "outputs": [],
   "source": [
    "write_to_las(list_of_all_wells, filename) # Update las-files with the new data. TAKES ABOUT 20-30 SEC FOR 100 LAS-FILES."
   ]
  },
  {
   "cell_type": "markdown",
   "metadata": {},
   "source": [
    "## Convert las to dataframe"
   ]
  },
  {
   "cell_type": "code",
   "execution_count": null,
   "metadata": {},
   "outputs": [],
   "source": [
    "def las_to_df(lasfile):\n",
    "    df = lasfile.df()\n",
    "    df.reset_index(inplace=True)\n",
    "    df['WELLNAME'] = lasfile.well.WELL.value\n",
    "    return df"
   ]
  },
  {
   "cell_type": "code",
   "execution_count": null,
   "metadata": {},
   "outputs": [],
   "source": [
    "list_of_wells_df = [las_to_df(list_of_all_wells[i]) for i in range(len(list_of_all_wells))]"
   ]
  },
  {
   "cell_type": "code",
   "execution_count": null,
   "metadata": {},
   "outputs": [],
   "source": [
    "list_of_wells_df"
   ]
  },
  {
   "cell_type": "markdown",
   "metadata": {},
   "source": [
    "## Plotting"
   ]
  },
  {
   "cell_type": "code",
   "execution_count": null,
   "metadata": {},
   "outputs": [],
   "source": [
    "def get_numerics(df, depthcurvename): # only return the data that is numeric\n",
    "    curve_list=list(df.columns[(df.dtypes.values == np.dtype('float64'))])\n",
    "    curve_list.remove(depthcurvename) # Get rid of depth, so we have 9 remaining logs to plot\n",
    "    return curve_list;"
   ]
  },
  {
   "cell_type": "code",
   "execution_count": null,
   "metadata": {},
   "outputs": [],
   "source": [
    "num_curves = [get_numerics(list_of_wells_df[i], 'DEPTH (m)') for i in range(len(list_of_wells_df))]"
   ]
  },
  {
   "cell_type": "code",
   "execution_count": null,
   "metadata": {},
   "outputs": [],
   "source": [
    "def curve_plot_numerics(log, df, depthname, group=None, alpha=1, colors='blue', height=600, width=300):\n",
    "    aplot = df.hvplot(x=depthname, y=log, by='WELLNAME', groupby=group ,invert=True, flip_yaxis=True, shared_axes=True, alpha=alpha, color=colors,\n",
    "                       height=height, width=width).opts(fontsize={'labels': 16,'xticks': 14, 'yticks': 14})\n",
    "    return aplot;"
   ]
  },
  {
   "cell_type": "code",
   "execution_count": null,
   "metadata": {},
   "outputs": [],
   "source": [
    "# Plot 1/4 of the wells:\n",
    "plotlists = [curve_plot_numerics(x, list_of_wells_df[i], 'DEPTH (m)') for i in range(int(len(list_of_wells_df)/4)) for x in num_curves[i]]"
   ]
  },
  {
   "cell_type": "code",
   "execution_count": null,
   "metadata": {},
   "outputs": [],
   "source": [
    "hv.Layout(plotlists).cols(len(num_curves[0])) # Each num_curves[i] contains 9 well logs, so all well logs from same well will be plotted on same row"
   ]
  },
  {
   "cell_type": "markdown",
   "metadata": {},
   "source": [
    "## Grouped plotting"
   ]
  },
  {
   "cell_type": "code",
   "execution_count": null,
   "metadata": {},
   "outputs": [],
   "source": [
    "multiple_wells_df = pd.concat(list_of_wells_df, ignore_index=True) # [:5] -> 5 first wells"
   ]
  },
  {
   "cell_type": "code",
   "execution_count": null,
   "metadata": {},
   "outputs": [],
   "source": [
    "num_curves2 = get_numerics(multiple_wells_df, 'DEPTH (m)')\n",
    "len(num_curves)"
   ]
  },
  {
   "cell_type": "code",
   "execution_count": null,
   "metadata": {},
   "outputs": [],
   "source": [
    "grouped_plot = [curve_plot_numerics(x, multiple_wells_df, 'DEPTH (m)', group='WELLNAME') for x in num_curves2]"
   ]
  },
  {
   "cell_type": "code",
   "execution_count": null,
   "metadata": {},
   "outputs": [],
   "source": [
    "hv.Layout(grouped_plot).cols(len(num_curves2))"
   ]
  },
  {
   "cell_type": "markdown",
   "metadata": {},
   "source": [
    "## Overlay plotting"
   ]
  },
  {
   "cell_type": "code",
   "execution_count": null,
   "metadata": {
    "scrolled": true
   },
   "outputs": [],
   "source": [
    "# Goal: interactively choose what wells to show!\n",
    "from ipywidgets import interact\n",
    "import ipywidgets as widgets\n",
    "unique_wells = list(multiple_wells_df['WELLNAME'].unique())\n",
    "@interact(wellA = widgets.Dropdown(\n",
    "                    options = unique_wells,\n",
    "                    value = unique_wells[0], # Set first well as default value\n",
    "                    description = 'Well A:',\n",
    "                    disabled = False),\n",
    "          wellB = widgets.Dropdown(\n",
    "                    options = unique_wells,\n",
    "                    value = unique_wells[1], # Set second wel as default value\n",
    "                    description = 'Well B:',\n",
    "                    disabled = False),\n",
    "          log = widgets.Dropdown(\n",
    "                    options = num_curves[0], # all num_curves[i] contains same 9 parameters\n",
    "                    value = num_curves[0][0], # choose first parameter (GR) as default value\n",
    "                    description = 'Log param:',\n",
    "                    disabled = False)\n",
    ")\n",
    "\n",
    "def overlay_plots(log, wellA, wellB, colorA='darkblue', colorB='gold'):\n",
    "    WellA = multiple_wells_df.loc[multiple_wells_df['WELLNAME'] == wellA]\n",
    "    WellB = multiple_wells_df.loc[multiple_wells_df['WELLNAME'] == wellB]\n",
    "    overlays = hv.Overlay(curve_plot_numerics(log, WellA, 'DEPTH (m)', colors=colorA, alpha=0.5, height=800, width=400) * \n",
    "                          curve_plot_numerics(log, WellB, 'DEPTH (m)', colors=colorB, alpha=0.5, height=800, width=400))\n",
    "    hv.output(overlays, widget_location='left')\n",
    "    return"
   ]
  },
  {
   "cell_type": "code",
   "execution_count": null,
   "metadata": {},
   "outputs": [],
   "source": [
    "def overlay_plots(multi_df, wellA, wellB, colorA='darkblue', colorB='gold'): \n",
    "    WellA = multi_df.loc[multi_df['WELLNAME'] == wellA]\n",
    "    WellB = multi_df.loc[multi_df['WELLNAME'] == wellB]\n",
    "    overlays = hv.Layout([hv.Overlay(curve_plot_numerics(x, WellA, 'DEPTH (m)', colors=colorA, alpha=0.5) * \n",
    "                          curve_plot_numerics(x, WellB, 'DEPTH (m)', colors=colorB, alpha=0.5))\n",
    "               for x in num_curves2]).cols(len(num_curves2))\n",
    "    return overlays\n",
    "\n",
    "overlay_plots(multiple_wells_df, 'RandGamma_1', 'RandGamma_3') # Overlay plot of las-file 1 and las-file 3"
   ]
  },
  {
   "cell_type": "markdown",
   "metadata": {},
   "source": [
    "## Add some header items (location, ...)"
   ]
  },
  {
   "cell_type": "code",
   "execution_count": null,
   "metadata": {},
   "outputs": [],
   "source": [
    "def lat_long(fgi, fgi_df):\n",
    "    for i in range(len(fgi)):\n",
    "        fgi[i].well['LATITUDE'] = ls.HeaderItem(mnemonic='LAT', unit='DEG', value=float('{:.4f}'.format((2 * np.random.sample() - 1)*90)), descr='Latitude')\n",
    "        fgi[i].well['LONGITUDE'] = ls.HeaderItem(mnemonic='LONG', unit='DEG', value=float('{:.4f}'.format((2 * np.random.sample() - 1)*180)), descr='Longitude')\n",
    "        start_idx = int(len(fgi_df)*i/len(fgi))\n",
    "        stop_idx = int(len(fgi_df)*(i+1)/len(fgi))\n",
    "        fgi_df.loc[start_idx:stop_idx, 'LATITUDE'] = fgi[i].well['LAT'].value # Sets specific latitude for each well\n",
    "        fgi_df.loc[start_idx:stop_idx, 'LONGITUDE'] = fgi[i].well['LONG'].value # Sets specific longitude for each well\n",
    "    # Location-test:\n",
    "    \"\"\"if (-50.0<=fgi[0].well['LAT'].value<=-5.0 and 90<=fgi[0].well['LONG']<=180):\n",
    "        fgi[0].well['CTRY'].value = 'AUSTRALIA'\n",
    "    else:\n",
    "        fgi[0].well['CTRY'].value = 'OUTSIDE AUSTRALIA'\"\"\"\n",
    "    return"
   ]
  },
  {
   "cell_type": "code",
   "execution_count": null,
   "metadata": {},
   "outputs": [],
   "source": [
    "lat_long(list_of_all_wells, multiple_wells_df)"
   ]
  },
  {
   "cell_type": "markdown",
   "metadata": {},
   "source": [
    "## Maps"
   ]
  },
  {
   "cell_type": "code",
   "execution_count": null,
   "metadata": {},
   "outputs": [],
   "source": [
    "import json\n",
    "\n",
    "from ipywidgets import Dropdown\n",
    "\n",
    "from bqplot import Lines, Figure, LinearScale, LogScale, DateScale, Axis\n",
    "\n",
    "from ipyleaflet import Map, GeoJSON, WidgetControl, Marker, basemaps, LayersControl, LayerGroup"
   ]
  },
  {
   "cell_type": "code",
   "execution_count": null,
   "metadata": {},
   "outputs": [],
   "source": [
    "m = Map(basemap=basemaps.Esri.NatGeoWorldMap, center=(50,0), zoom=2)\n",
    "wellnames = multiple_wells_df['WELLNAME'].unique()"
   ]
  },
  {
   "cell_type": "code",
   "execution_count": null,
   "metadata": {},
   "outputs": [],
   "source": [
    "well_name = wellnames[0] \n",
    "\n",
    "x_scale = LinearScale()\n",
    "depth_scale = LinearScale(reverse=True)\n",
    "x_data = multiple_wells_df.loc[multiple_wells_df['WELLNAME'] == well_name]['CALI'].values\n",
    "depth = multiple_wells_df.loc[multiple_wells_df['WELLNAME'] == well_name]['DEPTH (m)'].values\n",
    "\n",
    "lines = Lines(x=x_data, y=depth, scales={'x': x_scale, 'y': depth_scale}, colors=['blue'])\n",
    "\n",
    "ax_x = Axis(label='Cali', scale=x_scale, num_ticks=5)\n",
    "ax_y = Axis(label='Depth', scale=depth_scale, orientation='vertical', side='left')\n",
    "\n",
    "figure = Figure(axes=[ax_x, ax_y], title=well_name, marks=[lines], animation_duration=500, background_style={'color':'red'},\n",
    "                layout={'max_height': '400px', 'max_width': '200px'})\n",
    "#figure"
   ]
  },
  {
   "cell_type": "code",
   "execution_count": null,
   "metadata": {},
   "outputs": [],
   "source": [
    "colors = {'GR':'blue', 'RD':'orange', 'RM':'red', 'RS':'darkred', 'NPHI':'gold', 'RHOB':'purple', 'DT':'brown', 'CALI':'green', 'BS':'gray'}"
   ]
  },
  {
   "cell_type": "code",
   "execution_count": null,
   "metadata": {},
   "outputs": [],
   "source": [
    "parameter = 'GR'\n",
    "\n",
    "def update_fig(well_name, param):\n",
    "    if (param == 'RS' or param == 'RM' or param == 'RD'):\n",
    "        x_scale = LogScale()\n",
    "        ax_x.scale = LogScale()\n",
    "        lines.scales['x'] = LogScale()\n",
    "    else:\n",
    "        x_scale = LinearScale()\n",
    "        ax_x.scale = LinearScale()\n",
    "        lines.scales['x'] = LinearScale()\n",
    "    lines.x = multiple_wells_df.loc[multiple_wells_df['WELLNAME'] == well_name][param].values\n",
    "    lines.y = multiple_wells_df.loc[multiple_wells_df['WELLNAME'] == well_name]['DEPTH (m)'].values\n",
    "    lines.colors = [colors[param]]\n",
    "    ax_x.label = param\n",
    "    figure.title = well_name"
   ]
  },
  {
   "cell_type": "code",
   "execution_count": null,
   "metadata": {},
   "outputs": [],
   "source": [
    "# Create GeoJSON format for markers\n",
    "\n",
    "def geo_markers(dataset, well_idx):\n",
    "    long = dataset['LONGITUDE'].unique()[well_idx]\n",
    "    lat = dataset['LATITUDE'].unique()[well_idx]\n",
    "    geo = {\n",
    "            \"type\": \"Feature\",\n",
    "            \"properties\": {\n",
    "                \"well_name\": dataset['WELLNAME'].unique()[well_idx]\n",
    "            },\n",
    "            \"geometry\": {\n",
    "                \"type\": \"Point\",\n",
    "                \"coordinates\": [long, lat]\n",
    "            }\n",
    "         }\n",
    "    return geo, long, lat\n",
    "\n",
    "def make_geojson(dataset, well_idx_start, well_idx_stop):\n",
    "    geojson = {'features': [geo_markers(dataset, well_idx)[0] for well_idx in np.arange(well_idx_start, well_idx_stop)]}\n",
    "    return geojson, dataset"
   ]
  },
  {
   "cell_type": "code",
   "execution_count": null,
   "metadata": {},
   "outputs": [],
   "source": [
    "def grouped_well_layers(amount_of_groups):\n",
    "    data = []\n",
    "    for i in range(amount_of_groups):\n",
    "        data.append(make_geojson(multiple_wells_df, int(len(wellnames)/amount_of_groups*i), \n",
    "                            int(len(wellnames)/amount_of_groups*(i+1))))\n",
    "    geojson_layers = [GeoJSON(data=data[i][0], name='Group'+str(i+1)) for i in range(amount_of_groups)]\n",
    "    return geojson_layers"
   ]
  },
  {
   "cell_type": "code",
   "execution_count": null,
   "metadata": {},
   "outputs": [],
   "source": [
    "well_groups = grouped_well_layers(3) # Create 3 well-groups\n",
    "[m.add_layer(well_groups[i]) for i in range(len(well_groups))]\n",
    "\n",
    "control = LayersControl(position='topleft')\n",
    "m.add_control(control)"
   ]
  },
  {
   "cell_type": "markdown",
   "metadata": {},
   "source": [
    "### Interactive plotting"
   ]
  },
  {
   "cell_type": "code",
   "execution_count": null,
   "metadata": {},
   "outputs": [],
   "source": [
    "widget_control1 = WidgetControl(widget=figure, position='bottomright')\n",
    "\n",
    "m.add_control(widget_control1)\n",
    "\n",
    "def click(event, feature, **kwargs): # Update figure when clicking on well\n",
    "    global well_name\n",
    "    \n",
    "    well_name = feature['properties']['well_name']\n",
    "    update_fig(well_name, parameter)\n",
    "    \n",
    "[well_groups[i].on_click(click) for i in range(len(well_groups))]"
   ]
  },
  {
   "cell_type": "code",
   "execution_count": null,
   "metadata": {},
   "outputs": [],
   "source": [
    "dropdown = Dropdown(options=num_curves[0], value=parameter)\n",
    "\n",
    "def click(handler):\n",
    "    global parameter\n",
    "\n",
    "    parameter = handler['new']\n",
    "    update_fig(well_name, parameter)\n",
    "\n",
    "dropdown.observe(click, names='value')\n",
    "\n",
    "widget_control2 = WidgetControl(widget=dropdown, position='bottomleft')\n",
    "\n",
    "m.add_control(widget_control2)"
   ]
  },
  {
   "cell_type": "code",
   "execution_count": null,
   "metadata": {
    "scrolled": true
   },
   "outputs": [],
   "source": [
    "m"
   ]
  }
 ],
 "metadata": {
  "kernelspec": {
   "display_name": "Python 3",
   "language": "python",
   "name": "python3"
  },
  "language_info": {
   "codemirror_mode": {
    "name": "ipython",
    "version": 3
   },
   "file_extension": ".py",
   "mimetype": "text/x-python",
   "name": "python",
   "nbconvert_exporter": "python",
   "pygments_lexer": "ipython3",
   "version": "3.6.5"
  }
 },
 "nbformat": 4,
 "nbformat_minor": 4
}
