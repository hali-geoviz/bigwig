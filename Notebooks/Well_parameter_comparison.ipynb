{
 "cells": [
  {
   "cell_type": "code",
   "execution_count": 3,
   "metadata": {},
   "outputs": [],
   "source": [
    "from ipywidgets import interact\n",
    "import ipywidgets as widgets"
   ]
  },
  {
   "cell_type": "code",
   "execution_count": 4,
   "metadata": {},
   "outputs": [],
   "source": [
    "def curve_plot_numerics_test(well1, well2, well3, depthname, log_1, log_2, group=None, alpha=0.5, colors1=['red', 'blue'], colors2 = ['green', 'yellow'], colors3 = ['Purple', 'pink'], title=None):\n",
    "    well_start1 = df.loc[df['WELLNAME'] == well1].index[0]\n",
    "    well_stop1 = df.loc[df['WELLNAME'] == well1].index[-1]\n",
    "    \n",
    "    well_start2 = df.loc[df['WELLNAME'] == well2].index[0]\n",
    "    well_stop2 = df.loc[df['WELLNAME'] == well2].index[-1]\n",
    "    \n",
    "    well_start3 = df.loc[df['WELLNAME'] == well3].index[0]\n",
    "    well_stop3 = df.loc[df['WELLNAME'] == well3].index[-1]\n",
    "    \n",
    "    aplot = df.loc[well_start1:well_stop1].hvplot(x=depthname, y=[log_1,log_2] , by='WELLNAME', groupby=group ,invert=True, flip_yaxis=False, shared_axes=True, alpha=0.5, color=colors2,\n",
    "                       height=700, width=400, title=title).opts(fontsize={'labels': 16,'xticks': 14, 'yticks': 14})\n",
    "    bplot = df.loc[well_start2:well_stop2].hvplot(x=depthname, y=[log_1,log_2] , by='WELLNAME', groupby=group ,invert=True, flip_yaxis=False, shared_axes=True, alpha=0.5, color=colors1,\n",
    "                       height=700, width=400, title=title).opts(fontsize={'labels': 16,'xticks': 14, 'yticks': 14})\n",
    "    cplot = df.loc[well_start3:well_stop3].hvplot(x=depthname, y=[log_1,log_2] , by='WELLNAME', groupby=group ,invert=True, flip_yaxis=False, shared_axes=True, alpha=0.5, color=colors3,\n",
    "                       height=700, width=400, title=title).opts(fontsize={'labels': 16,'xticks': 14, 'yticks': 14})\n",
    "    return aplot+bplot+cplot;\n"
   ]
  },
  {
   "cell_type": "code",
   "execution_count": 5,
   "metadata": {
    "collapsed": true,
    "jupyter": {
     "outputs_hidden": true
    }
   },
   "outputs": [
    {
     "ename": "NameError",
     "evalue": "name 'df' is not defined",
     "output_type": "error",
     "traceback": [
      "\u001b[1;31m---------------------------------------------------------------------------\u001b[0m",
      "\u001b[1;31mNameError\u001b[0m                                 Traceback (most recent call last)",
      "\u001b[1;32m<ipython-input-5-c8ba3d7bf49b>\u001b[0m in \u001b[0;36m<module>\u001b[1;34m\u001b[0m\n\u001b[0;32m      1\u001b[0m interact(lambda well1, well2, well3, y_axis, x_axis, x_axis2: hv.output(curve_plot_numerics_test(well1, well2, well3, y_axis, x_axis, x_axis2,)),\n\u001b[1;32m----> 2\u001b[1;33m         \u001b[0mwell1\u001b[0m \u001b[1;33m=\u001b[0m \u001b[0mlist\u001b[0m\u001b[1;33m(\u001b[0m\u001b[0mdf\u001b[0m\u001b[1;33m[\u001b[0m\u001b[1;34m'WELLNAME'\u001b[0m\u001b[1;33m]\u001b[0m\u001b[1;33m.\u001b[0m\u001b[0munique\u001b[0m\u001b[1;33m(\u001b[0m\u001b[1;33m)\u001b[0m\u001b[1;33m)\u001b[0m\u001b[1;33m,\u001b[0m\u001b[1;33m\u001b[0m\u001b[1;33m\u001b[0m\u001b[0m\n\u001b[0m\u001b[0;32m      3\u001b[0m         \u001b[0mwell2\u001b[0m \u001b[1;33m=\u001b[0m \u001b[0mlist\u001b[0m\u001b[1;33m(\u001b[0m\u001b[0mdf\u001b[0m\u001b[1;33m[\u001b[0m\u001b[1;34m'WELLNAME'\u001b[0m\u001b[1;33m]\u001b[0m\u001b[1;33m.\u001b[0m\u001b[0munique\u001b[0m\u001b[1;33m(\u001b[0m\u001b[1;33m)\u001b[0m\u001b[1;33m)\u001b[0m\u001b[1;33m,\u001b[0m\u001b[1;33m\u001b[0m\u001b[1;33m\u001b[0m\u001b[0m\n\u001b[0;32m      4\u001b[0m         \u001b[0mwell3\u001b[0m \u001b[1;33m=\u001b[0m \u001b[0mlist\u001b[0m\u001b[1;33m(\u001b[0m\u001b[0mdf\u001b[0m\u001b[1;33m[\u001b[0m\u001b[1;34m'WELLNAME'\u001b[0m\u001b[1;33m]\u001b[0m\u001b[1;33m.\u001b[0m\u001b[0munique\u001b[0m\u001b[1;33m(\u001b[0m\u001b[1;33m)\u001b[0m\u001b[1;33m)\u001b[0m\u001b[1;33m,\u001b[0m\u001b[1;33m\u001b[0m\u001b[1;33m\u001b[0m\u001b[0m\n\u001b[0;32m      5\u001b[0m         \u001b[0my_axis\u001b[0m \u001b[1;33m=\u001b[0m \u001b[0mlist_of_wells_df\u001b[0m\u001b[1;33m[\u001b[0m\u001b[1;36m1\u001b[0m\u001b[1;33m]\u001b[0m\u001b[1;33m,\u001b[0m\u001b[1;33m\u001b[0m\u001b[1;33m\u001b[0m\u001b[0m\n",
      "\u001b[1;31mNameError\u001b[0m: name 'df' is not defined"
     ]
    }
   ],
   "source": [
    "interact(lambda well1, well2, well3, y_axis, x_axis, x_axis2: hv.output(curve_plot_numerics_test(well1, well2, well3, y_axis, x_axis, x_axis2,)),\n",
    "        well1 = list(df['WELLNAME'].unique()),\n",
    "        well2 = list(df['WELLNAME'].unique()),\n",
    "        well3 = list(df['WELLNAME'].unique()),\n",
    "        y_axis = list_of_wells_df[1],\n",
    "        x_axis = list_of_wells_df[2],\n",
    "        x_axis2 = list_of_wells_df[3])"
   ]
  },
  {
   "cell_type": "code",
   "execution_count": null,
   "metadata": {},
   "outputs": [],
   "source": [
    "def interactive_parameter_comparison():\n",
    "    start = time.perf_counter()\n",
    "    @interact(slider = widgets.IntSlider(min = 0, max = 5, value = 1, description = 'number of wells'),\n",
    "              well_1 = widgets.Dropdown(\n",
    "                        options = df['WELLNAME'].unique(),\n",
    "                        value = df['WELLNAME'].unique()[0],\n",
    "                        description = 'well 1:',\n",
    "                        disabled = False),\n",
    "              well_2 = widgets.Dropdown(\n",
    "                        options = df['WELLNAME'].unique(),\n",
    "                        value = df['WELLNAME'].unique()[1],\n",
    "                        description = 'well 2:',\n",
    "                        disabled = False),\n",
    "              well_3 = widgets.Dropdown(\n",
    "                        options = df['WELLNAME'].unique(),\n",
    "                        value = df['WELLNAME'].unique()[2],\n",
    "                        description = 'well 3:',\n",
    "                        disabled = False),\n",
    "              well_4 = widgets.Dropdown(\n",
    "                        options = df['WELLNAME'].unique(),\n",
    "                        value = df['WELLNAME'].unique()[3],\n",
    "                        description = 'well 4:',\n",
    "                        disabled = False),\n",
    "              well_5 = widgets.Dropdown(\n",
    "                        options = df['WELLNAME'].unique(),\n",
    "                        value = df['WELLNAME'].unique()[4],\n",
    "                        description = 'well 5:',\n",
    "                        disabled = False),\n",
    "              log = widgets.Dropdown(\n",
    "                        options = num_curves,\n",
    "                        value = num_curves[0],\n",
    "                        description = 'parameters:',\n",
    "                        disabled = False)\n",
    "                            )\n",
    "\n",
    "    \n",
    "    def handle_slider_change(change):\n",
    "        if (change.new < 1):\n",
    "            well_1.layout = Layout(visibility = 'visible')\n",
    "        elif (change.new < 2):\n",
    "            well_2.layout = Layout(visibility = 'visible')\n",
    "        elif (change.new < 3):\n",
    "            well_3.layout = Layout(visibility = 'visible')\n",
    "        elif (change.new < 4):\n",
    "            well_4.layout = Layout(visibility = 'visible')\n",
    "        elif (change.new < 5):\n",
    "            well_1.layout = Layout(visibility = 'hidden')\n",
    "        else: \n",
    "            well_1.layout = Layout(visibility = 'hidden')\n",
    "            well_2.layout = Layout(visibility = 'hidden')\n",
    "            well_3.layout = Layout(visibility = 'hidden')\n",
    "            well_4.layout = Layout(visibility = 'hidden')\n",
    "            well_5.layout = Layout(visibility = 'hidden')\n",
    "    \n",
    "    slider.observe(handle_slider_change, names = 'value')\n",
    "    \n",
    "    well_list = [well_1, well_2, well_3, well_4, well_5]\n",
    "    color_list = ['red', 'blue', 'yellow', 'orange', 'green']\n",
    "    \n",
    "    def curve_plot_numerics(log, well_list, color_list, depthname = 'DEPTH', group=None, alpha=0.4, title=None):\n",
    "        aplot = hv.Overlay([])\n",
    "        for well, col in zip(well_list, color_list):\n",
    "            well_start = df.loc[(df.WELLNAME == well)].index[0]\n",
    "            well_stop = df.loc[(df.WELLNAME == well)].index[-1]\n",
    "\n",
    "            aplot *= df.loc[well_start:well_stop].hvplot(\n",
    "                x=depthname, y=log, by='WELLNAME', groupby=group ,invert=True, flip_yaxis=False, shared_axes=True, \n",
    "                alpha=alpha, color=col, height=700, width=700, \n",
    "                title=title).opts(fontsize={'labels': 16,'xticks': 14, 'yticks': 14})\n",
    "        return aplot;\n",
    "    \n",
    "    stop = time.perf_counter()\n",
    "    print('Time:', stop - start)\n",
    "    return curve_plot_numerics(log, well_list)\n",
    "\n",
    "interactive_parameter_comparison()"
   ]
  }
 ],
 "metadata": {
  "kernelspec": {
   "display_name": "Python 3",
   "language": "python",
   "name": "python3"
  },
  "language_info": {
   "codemirror_mode": {
    "name": "ipython",
    "version": 3
   },
   "file_extension": ".py",
   "mimetype": "text/x-python",
   "name": "python",
   "nbconvert_exporter": "python",
   "pygments_lexer": "ipython3",
   "version": "3.8.3"
  }
 },
 "nbformat": 4,
 "nbformat_minor": 4
}
